{
  "nbformat": 4,
  "nbformat_minor": 0,
  "metadata": {
    "colab": {
      "provenance": [],
      "authorship_tag": "ABX9TyNlfhHkjclCA+3nE66tOAW4",
      "include_colab_link": true
    },
    "kernelspec": {
      "name": "python3",
      "display_name": "Python 3"
    },
    "language_info": {
      "name": "python"
    }
  },
  "cells": [
    {
      "cell_type": "markdown",
      "metadata": {
        "id": "view-in-github",
        "colab_type": "text"
      },
      "source": [
        "<a href=\"https://colab.research.google.com/github/MarioCerra/intro_phython_202320/blob/main/Introduction.ipynb\" target=\"_parent\"><img src=\"https://colab.research.google.com/assets/colab-badge.svg\" alt=\"Open In Colab\"/></a>"
      ]
    },
    {
      "cell_type": "markdown",
      "source": [
        "# Introducción a Pyton\n",
        "## Curso de Programación y algoritmia UPB 202320\n",
        "- Nombre: Mario Cerra\n",
        "- ID: 503686\n",
        "- Email: mario.cerra@upb.edu.co\n",
        "\n",
        "Esta es la expresión de la linea recta:\n",
        "$$y = mx + b$$\n",
        "donde $x$ es la posición."
      ],
      "metadata": {
        "id": "TAii_pz7E_fd"
      }
    },
    {
      "cell_type": "code",
      "source": [],
      "metadata": {
        "id": "XAcY5G9gHhBJ"
      },
      "execution_count": null,
      "outputs": []
    }
  ]
}