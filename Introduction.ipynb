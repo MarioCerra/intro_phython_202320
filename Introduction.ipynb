{
  "nbformat": 4,
  "nbformat_minor": 0,
  "metadata": {
    "colab": {
      "provenance": [],
      "authorship_tag": "ABX9TyPZoYHUQN10cIA8Uz+wOTjG",
      "include_colab_link": true
    },
    "kernelspec": {
      "name": "python3",
      "display_name": "Python 3"
    },
    "language_info": {
      "name": "python"
    }
  },
  "cells": [
    {
      "cell_type": "markdown",
      "metadata": {
        "id": "view-in-github",
        "colab_type": "text"
      },
      "source": [
        "<a href=\"https://colab.research.google.com/github/MarioCerra/intro_phython_202320/blob/main/Introduction.ipynb\" target=\"_parent\"><img src=\"https://colab.research.google.com/assets/colab-badge.svg\" alt=\"Open In Colab\"/></a>"
      ]
    },
    {
      "cell_type": "markdown",
      "source": [
        "# Introducción a Pyton\n",
        "## Curso de Programación y algoritmia UPB 202320\n",
        "- Nombre: Mario Cerra\n",
        "- ID: 503686\n",
        "- Email: mario.cerra@upb.edu.co\n",
        "\n",
        "Esta es la expresión de la linea recta:\n",
        "$$y = mx + b$$\n",
        "donde $x$ es la posición."
      ],
      "metadata": {
        "id": "TAii_pz7E_fd"
      }
    },
    {
      "cell_type": "code",
      "source": [
        "# Comentarios\n",
        "\n",
        "# Mis primeras líneas de código en Python\n",
        "name = \"Mario Andres\"\n",
        "print(\"Hello,\", name)"
      ],
      "metadata": {
        "colab": {
          "base_uri": "https://localhost:8080/"
        },
        "id": "XAcY5G9gHhBJ",
        "outputId": "43fe54e1-4466-4a05-cad1-55ed5e510f6f"
      },
      "execution_count": 4,
      "outputs": [
        {
          "output_type": "stream",
          "name": "stdout",
          "text": [
            "Hello, Mario Andres\n"
          ]
        }
      ]
    },
    {
      "cell_type": "code",
      "source": [
        "name= \"Mario Cerra\"\n",
        "age = \"18\"\n",
        "city = \"Monteria\"\n",
        "food = \"empanadas\"\n",
        "print(\"Mi nombre es\", name, \"tengo\", age, \"años de edad\", \"vivo en\", city, \"y me gustan las\", food)"
      ],
      "metadata": {
        "colab": {
          "base_uri": "https://localhost:8080/"
        },
        "id": "4m5LnVmERUnt",
        "outputId": "bf502a54-c6d1-48a5-af77-9347e04524be"
      },
      "execution_count": 7,
      "outputs": [
        {
          "output_type": "stream",
          "name": "stdout",
          "text": [
            "Mi nombre es Mario Cerra tengo 18 años de edad vivo en Monteria y me gustan las empanadas\n"
          ]
        }
      ]
    },
    {
      "cell_type": "code",
      "source": [],
      "metadata": {
        "id": "WdAGy0DPVqix"
      },
      "execution_count": null,
      "outputs": []
    }
  ]
}