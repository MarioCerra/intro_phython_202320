{
  "nbformat": 4,
  "nbformat_minor": 0,
  "metadata": {
    "colab": {
      "provenance": [],
      "authorship_tag": "ABX9TyON9hAjSvl5BWCPd8kB20gX",
      "include_colab_link": true
    },
    "kernelspec": {
      "name": "python3",
      "display_name": "Python 3"
    },
    "language_info": {
      "name": "python"
    }
  },
  "cells": [
    {
      "cell_type": "markdown",
      "metadata": {
        "id": "view-in-github",
        "colab_type": "text"
      },
      "source": [
        "<a href=\"https://colab.research.google.com/github/MarioCerra/intro_phython_202320/blob/main/Introduction.ipynb\" target=\"_parent\"><img src=\"https://colab.research.google.com/assets/colab-badge.svg\" alt=\"Open In Colab\"/></a>"
      ]
    },
    {
      "cell_type": "markdown",
      "source": [
        "# Introducción a Pyton\n",
        "## Curso de Programación y algoritmia UPB 202320\n",
        "- Nombre: Mario Cerra\n",
        "- ID: 503686\n",
        "- Email: mario.cerra@upb.edu.co\n",
        "\n",
        "Esta es la expresión de la linea recta:\n",
        "$$y = mx + b$$\n",
        "donde $x$ es la posición."
      ],
      "metadata": {
        "id": "TAii_pz7E_fd"
      }
    },
    {
      "cell_type": "code",
      "source": [
        "# Comentarios\n",
        "\n",
        "# Mis primeras líneas de código en Python\n",
        "name = \"Mario Andres\"\n",
        "print(\"Hello,\", name)"
      ],
      "metadata": {
        "colab": {
          "base_uri": "https://localhost:8080/"
        },
        "id": "XAcY5G9gHhBJ",
        "outputId": "43fe54e1-4466-4a05-cad1-55ed5e510f6f"
      },
      "execution_count": null,
      "outputs": [
        {
          "output_type": "stream",
          "name": "stdout",
          "text": [
            "Hello, Mario Andres\n"
          ]
        }
      ]
    },
    {
      "cell_type": "code",
      "source": [
        "name= \"Mario Cerra\"\n",
        "age = \"18\"\n",
        "city = \"Monteria\"\n",
        "food = \"empanadas\"\n",
        "print(\"Mi nombre es\", name, \"tengo\", age, \"años de edad\", \"vivo en\", city, \"y me gustan las\", food)"
      ],
      "metadata": {
        "colab": {
          "base_uri": "https://localhost:8080/"
        },
        "id": "4m5LnVmERUnt",
        "outputId": "bf502a54-c6d1-48a5-af77-9347e04524be"
      },
      "execution_count": null,
      "outputs": [
        {
          "output_type": "stream",
          "name": "stdout",
          "text": [
            "Mi nombre es Mario Cerra tengo 18 años de edad vivo en Monteria y me gustan las empanadas\n"
          ]
        }
      ]
    },
    {
      "cell_type": "code",
      "source": [
        "a = 3\n",
        "b = 4.5\n",
        "c = a + b\n",
        "print(type(a))\n",
        "print(type(b))\n",
        "print(c)\n",
        "c = c * a\n",
        "print(c)\n",
        "c = c / b\n",
        "print(c)\n",
        "c = int(c / b)\n",
        "print(c)\n",
        "d = 0.3\n",
        "c += 0.3\n",
        "print(c)\n"
      ],
      "metadata": {
        "id": "WdAGy0DPVqix",
        "outputId": "6e1fd4ce-5eb8-463a-a951-f444ca5e97fe",
        "colab": {
          "base_uri": "https://localhost:8080/"
        }
      },
      "execution_count": null,
      "outputs": [
        {
          "output_type": "stream",
          "name": "stdout",
          "text": [
            "<class 'int'>\n",
            "<class 'float'>\n",
            "7.5\n",
            "22.5\n",
            "5.0\n",
            "1\n",
            "1.3\n"
          ]
        }
      ]
    },
    {
      "cell_type": "code",
      "source": [
        "m = 5\n",
        "b = 2\n",
        "x = -3\n",
        "y = m * x + b\n",
        "print(\"x\" \"/---/\", y)\n",
        "x = -2\n",
        "y = m * x + b\n",
        "print(\"x\" \"/---/\", y)\n",
        "x = -1\n",
        "y = m * x + b\n",
        "print(\"x\" \"/---/\", y)\n",
        "x = 0\n",
        "y = m * x + b\n",
        "print(\"x\" \"/---/\", y)\n",
        "x = 1\n",
        "y = m * x + b\n",
        "print(\"x\" \"/---/\", y)\n",
        "x = 2\n",
        "y = m * x + b\n",
        "print(\"x\" \"/---/\", y)\n",
        "x = 3\n",
        "y = m * x + b\n",
        "print(\"x\" \"/---/\", y)"
      ],
      "metadata": {
        "id": "IBSqR3A9d6fm",
        "outputId": "cfb9aa2a-be44-4f9f-a540-7dd04c931535",
        "colab": {
          "base_uri": "https://localhost:8080/"
        }
      },
      "execution_count": null,
      "outputs": [
        {
          "output_type": "stream",
          "name": "stdout",
          "text": [
            "x/---/ -13\n",
            "x/---/ -8\n",
            "x/---/ -3\n",
            "x/---/ 2\n",
            "x/---/ 7\n",
            "x/---/ 12\n",
            "x/---/ 17\n"
          ]
        }
      ]
    },
    {
      "cell_type": "code",
      "source": [
        "a = 1\n",
        "b = 2\n",
        "c = -8\n",
        "disc = (b ** 2 - 4 * a * c) ** (1/2)\n",
        "x_p = (-b + disc ) / (2 * a)\n",
        "x_n = (-b - disc) / (2 * a)\n",
        "print(\"x_p:\" , x_p)\n",
        "print(\"x_n:\" , x_n)"
      ],
      "metadata": {
        "id": "8k2dHlrSh5vN",
        "outputId": "c7cc7bc9-4eed-441e-f714-54c68aa4ad15",
        "colab": {
          "base_uri": "https://localhost:8080/"
        }
      },
      "execution_count": null,
      "outputs": [
        {
          "output_type": "stream",
          "name": "stdout",
          "text": [
            "x_p: 2.0\n",
            "x_n: -4.0\n"
          ]
        }
      ]
    },
    {
      "cell_type": "code",
      "source": [
        "firstname = \"Mario\"\n",
        "lastname = \"Cerra\"\n",
        "fullname = firstname + \" \" + lastname\n",
        "print(fullname)"
      ],
      "metadata": {
        "id": "NKhX1Y-fkaoC",
        "outputId": "10951505-0a56-4f0d-8531-dfaef7835d1f",
        "colab": {
          "base_uri": "https://localhost:8080/"
        }
      },
      "execution_count": null,
      "outputs": [
        {
          "output_type": "stream",
          "name": "stdout",
          "text": [
            "Mario Cerra\n"
          ]
        }
      ]
    },
    {
      "cell_type": "code",
      "source": [
        "song = \"\"\"Un elefante se balaceaba\n",
        "sobre la tela de una araña\n",
        "como veia que resistia\n",
        "fue a buscar otro elefante\"\"\"\n",
        "print(song)"
      ],
      "metadata": {
        "id": "7-fNwgr4lGdw",
        "outputId": "35744068-93ac-4b78-9119-acc44e4cf261",
        "colab": {
          "base_uri": "https://localhost:8080/"
        }
      },
      "execution_count": null,
      "outputs": [
        {
          "output_type": "stream",
          "name": "stdout",
          "text": [
            "Un elefante se balaceaba \n",
            "sobre la tela de una araña \n",
            "como veia que resistia \n",
            "fue a buscar otro elefante\n"
          ]
        }
      ]
    },
    {
      "cell_type": "code",
      "source": [
        "a = 3\n",
        "b = 5\n",
        "print(a == b)\n",
        "print(a != b)\n",
        "print(a > b)\n",
        "print(a < b)\n",
        "print((a == b) and (b + 3 > 5))\n",
        "print((a ==b) or (b + 3 > 5))\n",
        "print(not(a == b))"
      ],
      "metadata": {
        "id": "4WNe8EPLmW8O",
        "outputId": "675f953f-4b30-42d2-93a4-21e3ce2c63cb",
        "colab": {
          "base_uri": "https://localhost:8080/"
        }
      },
      "execution_count": null,
      "outputs": [
        {
          "output_type": "stream",
          "name": "stdout",
          "text": [
            "False\n",
            "True\n",
            "False\n",
            "True\n",
            "False\n",
            "True\n",
            "True\n"
          ]
        }
      ]
    }
  ]
}