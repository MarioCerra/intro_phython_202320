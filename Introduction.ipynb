{
  "nbformat": 4,
  "nbformat_minor": 0,
  "metadata": {
    "colab": {
      "provenance": [],
      "authorship_tag": "ABX9TyPS2U8DSXfgiLBJW+KNHs6G",
      "include_colab_link": true
    },
    "kernelspec": {
      "name": "python3",
      "display_name": "Python 3"
    },
    "language_info": {
      "name": "python"
    }
  },
  "cells": [
    {
      "cell_type": "markdown",
      "metadata": {
        "id": "view-in-github",
        "colab_type": "text"
      },
      "source": [
        "<a href=\"https://colab.research.google.com/github/MarioCerra/intro_phython_202320/blob/main/Introduction.ipynb\" target=\"_parent\"><img src=\"https://colab.research.google.com/assets/colab-badge.svg\" alt=\"Open In Colab\"/></a>"
      ]
    },
    {
      "cell_type": "markdown",
      "source": [
        "# Introducción a Pyton\n",
        "## Curso de Programación y algoritmia UPB 202320\n",
        "- Nombre: Mario Cerra\n",
        "- ID: 503686\n",
        "- Email: mario.cerra@upb.edu.co\n",
        "\n",
        "Esta es la expresión de la linea recta:\n",
        "$$y = mx + b$$\n",
        "donde $x$ es la posición."
      ],
      "metadata": {
        "id": "TAii_pz7E_fd"
      }
    },
    {
      "cell_type": "code",
      "source": [
        "# Comentarios\n",
        "\n",
        "# Mis primeras líneas de código en Python\n",
        "name = \"Mario Andres\"\n",
        "print(\"Hello,\", name)"
      ],
      "metadata": {
        "colab": {
          "base_uri": "https://localhost:8080/"
        },
        "id": "XAcY5G9gHhBJ",
        "outputId": "43fe54e1-4466-4a05-cad1-55ed5e510f6f"
      },
      "execution_count": null,
      "outputs": [
        {
          "output_type": "stream",
          "name": "stdout",
          "text": [
            "Hello, Mario Andres\n"
          ]
        }
      ]
    },
    {
      "cell_type": "code",
      "source": [
        "name= \"Mario Cerra\"\n",
        "age = \"18\"\n",
        "city = \"Monteria\"\n",
        "food = \"empanadas\"\n",
        "print(\"Mi nombre es\", name, \"tengo\", age, \"años de edad\", \"vivo en\", city, \"y me gustan las\", food)"
      ],
      "metadata": {
        "colab": {
          "base_uri": "https://localhost:8080/"
        },
        "id": "4m5LnVmERUnt",
        "outputId": "bf502a54-c6d1-48a5-af77-9347e04524be"
      },
      "execution_count": null,
      "outputs": [
        {
          "output_type": "stream",
          "name": "stdout",
          "text": [
            "Mi nombre es Mario Cerra tengo 18 años de edad vivo en Monteria y me gustan las empanadas\n"
          ]
        }
      ]
    },
    {
      "cell_type": "code",
      "source": [
        "a = 3\n",
        "b = 4.5\n",
        "c = a + b\n",
        "print(type(a))\n",
        "print(type(b))\n",
        "print(c)\n",
        "c = c * a\n",
        "print(c)\n",
        "c = c / b\n",
        "print(c)\n",
        "c = int(c / b)\n",
        "print(c)\n",
        "d = 0.3\n",
        "c += 0.3\n",
        "print(c)\n"
      ],
      "metadata": {
        "id": "WdAGy0DPVqix",
        "outputId": "6e1fd4ce-5eb8-463a-a951-f444ca5e97fe",
        "colab": {
          "base_uri": "https://localhost:8080/"
        }
      },
      "execution_count": null,
      "outputs": [
        {
          "output_type": "stream",
          "name": "stdout",
          "text": [
            "<class 'int'>\n",
            "<class 'float'>\n",
            "7.5\n",
            "22.5\n",
            "5.0\n",
            "1\n",
            "1.3\n"
          ]
        }
      ]
    },
    {
      "cell_type": "code",
      "source": [
        "m = 5\n",
        "b = 2\n",
        "x = -3\n",
        "y = m * x + b\n",
        "print(\"x\" \"/---/\", y)\n",
        "x = -2\n",
        "y = m * x + b\n",
        "print(\"x\" \"/---/\", y)\n",
        "x = -1\n",
        "y = m * x + b\n",
        "print(\"x\" \"/---/\", y)\n",
        "x = 0\n",
        "y = m * x + b\n",
        "print(\"x\" \"/---/\", y)\n",
        "x = 1\n",
        "y = m * x + b\n",
        "print(\"x\" \"/---/\", y)\n",
        "x = 2\n",
        "y = m * x + b\n",
        "print(\"x\" \"/---/\", y)\n",
        "x = 3\n",
        "y = m * x + b\n",
        "print(\"x\" \"/---/\", y)"
      ],
      "metadata": {
        "id": "IBSqR3A9d6fm",
        "outputId": "cfb9aa2a-be44-4f9f-a540-7dd04c931535",
        "colab": {
          "base_uri": "https://localhost:8080/"
        }
      },
      "execution_count": null,
      "outputs": [
        {
          "output_type": "stream",
          "name": "stdout",
          "text": [
            "x/---/ -13\n",
            "x/---/ -8\n",
            "x/---/ -3\n",
            "x/---/ 2\n",
            "x/---/ 7\n",
            "x/---/ 12\n",
            "x/---/ 17\n"
          ]
        }
      ]
    },
    {
      "cell_type": "code",
      "source": [
        "a = 1\n",
        "b = 2\n",
        "c = -8\n",
        "disc = (b ** 2 - 4 * a * c) ** (1/2)\n",
        "x_p = (-b + disc ) / (2 * a)\n",
        "x_n = (-b - disc) / (2 * a)\n",
        "print(\"x_p:\" , x_p)\n",
        "print(\"x_n:\" , x_n)"
      ],
      "metadata": {
        "id": "8k2dHlrSh5vN",
        "outputId": "c7cc7bc9-4eed-441e-f714-54c68aa4ad15",
        "colab": {
          "base_uri": "https://localhost:8080/"
        }
      },
      "execution_count": null,
      "outputs": [
        {
          "output_type": "stream",
          "name": "stdout",
          "text": [
            "x_p: 2.0\n",
            "x_n: -4.0\n"
          ]
        }
      ]
    },
    {
      "cell_type": "code",
      "source": [
        "firstname = \"Mario\"\n",
        "lastname = \"Cerra\"\n",
        "fullname = firstname + \" \" + lastname\n",
        "print(fullname)"
      ],
      "metadata": {
        "id": "NKhX1Y-fkaoC",
        "outputId": "10951505-0a56-4f0d-8531-dfaef7835d1f",
        "colab": {
          "base_uri": "https://localhost:8080/"
        }
      },
      "execution_count": null,
      "outputs": [
        {
          "output_type": "stream",
          "name": "stdout",
          "text": [
            "Mario Cerra\n"
          ]
        }
      ]
    },
    {
      "cell_type": "code",
      "source": [
        "song = \"\"\"Un elefante se balaceaba\n",
        "sobre la tela de una araña\n",
        "como veia que resistia\n",
        "fue a buscar otro elefante\"\"\"\n",
        "print(song)"
      ],
      "metadata": {
        "id": "7-fNwgr4lGdw",
        "outputId": "35744068-93ac-4b78-9119-acc44e4cf261",
        "colab": {
          "base_uri": "https://localhost:8080/"
        }
      },
      "execution_count": null,
      "outputs": [
        {
          "output_type": "stream",
          "name": "stdout",
          "text": [
            "Un elefante se balaceaba \n",
            "sobre la tela de una araña \n",
            "como veia que resistia \n",
            "fue a buscar otro elefante\n"
          ]
        }
      ]
    },
    {
      "cell_type": "code",
      "source": [
        "a = 3\n",
        "b = 5\n",
        "print(a == b)\n",
        "print(a != b)\n",
        "print(a > b)\n",
        "print(a < b)\n",
        "print((a == b) and (b + 3 > 5))\n",
        "print((a ==b) or (b + 3 > 5))\n",
        "print(not(a == b))"
      ],
      "metadata": {
        "id": "4WNe8EPLmW8O",
        "outputId": "675f953f-4b30-42d2-93a4-21e3ce2c63cb",
        "colab": {
          "base_uri": "https://localhost:8080/"
        }
      },
      "execution_count": null,
      "outputs": [
        {
          "output_type": "stream",
          "name": "stdout",
          "text": [
            "False\n",
            "True\n",
            "False\n",
            "True\n",
            "False\n",
            "True\n",
            "True\n"
          ]
        }
      ]
    },
    {
      "cell_type": "code",
      "source": [
        "b = 3 == 4 and 3!= 4\n",
        "print(b)\n",
        "c = 3 > 4 or 3 < 4\n",
        "print(c)\n",
        "d = (3 < 4 and 3 <= 4) or (3 >= 4 or 3 != 4)\n",
        "print(d)\n"
      ],
      "metadata": {
        "id": "errrQXF8dSSh",
        "outputId": "b31110da-9fbf-4cb6-b432-1c91d4be879b",
        "colab": {
          "base_uri": "https://localhost:8080/"
        }
      },
      "execution_count": 4,
      "outputs": [
        {
          "output_type": "stream",
          "name": "stdout",
          "text": [
            "False\n",
            "True\n",
            "True\n"
          ]
        }
      ]
    },
    {
      "cell_type": "code",
      "source": [
        "b = float(input(\"ingrese la base del triangulo \"))\n",
        "h = float(input(\"ingrese la altura del triangulo \"))\n",
        "A = (b * h) / 2\n",
        "print(A)\n",
        "x = 4\n",
        "\n",
        "if A > 1000:\n",
        "  print(\"terreno grande \")\n",
        "else:\n",
        "    print(\"terreno adecuado\")"
      ],
      "metadata": {
        "id": "Di-x5CjfetZw",
        "outputId": "f5d254de-9287-4c05-fb2c-676aa0feb07e",
        "colab": {
          "base_uri": "https://localhost:8080/"
        }
      },
      "execution_count": 14,
      "outputs": [
        {
          "output_type": "stream",
          "name": "stdout",
          "text": [
            "ingrese la base del triangulo 5000\n",
            "ingrese la altura del triangulo 2000\n",
            "5000000.0\n",
            "terreno grande \n"
          ]
        }
      ]
    },
    {
      "cell_type": "code",
      "source": [
        "\n",
        "\n",
        "g = float(input(\"ingrese el numero de docenas \"))\n",
        "f = float(input(\"ingrese el valor del producto \"))\n",
        "x = g * f\n",
        "print(x)\n",
        "\n",
        "if g >= 10:\n",
        "  print(\"descuento de 15% \")\n",
        "  h = 15 * x / 100\n",
        "  print(h)\n",
        "  j = x - h\n",
        "  print(j)\n",
        "else:\n",
        "  print(\"descuentpo de 11% \")\n",
        "\n"
      ],
      "metadata": {
        "id": "qR5pblpZlEWD",
        "outputId": "a1beb4c1-3e7b-4e25-93a4-174e7ca5e25e",
        "colab": {
          "base_uri": "https://localhost:8080/"
        }
      },
      "execution_count": 40,
      "outputs": [
        {
          "output_type": "stream",
          "name": "stdout",
          "text": [
            "ingrese el numero de docenas 12\n",
            "ingrese el valor del producto 20000\n",
            "240000.0\n",
            "descuento de 15% \n",
            "36000.0\n",
            "204000.0\n"
          ]
        }
      ]
    },
    {
      "cell_type": "code",
      "source": [
        "a = (11% 20000)\n",
        "float(input(\"ingrese el numero  de docenas \"))\n",
        "float(input(\"ingrese el valor del producto \"))\n",
        "if a < 10:\n",
        "  print(\"descuento de 15% \")\n",
        "else:\n",
        "  print(\"descuentpo de 11% \")\n"
      ],
      "metadata": {
        "id": "6gEX8ahkmv0l",
        "outputId": "ab12e501-36d2-4ee4-be6a-bb659b69a269",
        "colab": {
          "base_uri": "https://localhost:8080/"
        }
      },
      "execution_count": 26,
      "outputs": [
        {
          "output_type": "stream",
          "name": "stdout",
          "text": [
            "ingrese el numero  de docenas 9\n",
            "ingrese el valor del producto 20000\n",
            "descuentpo de 11% \n"
          ]
        }
      ]
    }
  ]
}